{
 "cells": [
  {
   "cell_type": "markdown",
   "id": "56cc9b69-34bb-48a8-83b8-dd236cb59f6e",
   "metadata": {},
   "source": [
    "<img src=\"images/0918/integral.PNG\"/>"
   ]
  },
  {
   "cell_type": "code",
   "execution_count": null,
   "id": "8445cf48-2a75-416a-9c0b-a71ac6d8dc38",
   "metadata": {},
   "outputs": [],
   "source": []
  }
 ],
 "metadata": {
  "kernelspec": {
   "display_name": "Python [conda env:base] *",
   "language": "python",
   "name": "conda-base-py"
  },
  "language_info": {
   "codemirror_mode": {
    "name": "ipython",
    "version": 3
   },
   "file_extension": ".py",
   "mimetype": "text/x-python",
   "name": "python",
   "nbconvert_exporter": "python",
   "pygments_lexer": "ipython3",
   "version": "3.13.5"
  }
 },
 "nbformat": 4,
 "nbformat_minor": 5
}
