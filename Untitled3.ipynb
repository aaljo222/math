{
 "cells": [
  {
   "cell_type": "markdown",
   "id": "56cc9b69-34bb-48a8-83b8-dd236cb59f6e",
   "metadata": {},
   "source": [
    "<img src=\"images/0918/integral.PNG\"/>"
   ]
  },
  {
   "cell_type": "code",
   "execution_count": 1,
   "id": "8445cf48-2a75-416a-9c0b-a71ac6d8dc38",
   "metadata": {},
   "outputs": [
    {
     "data": {
      "text/plain": [
       "(155/4, 38.7500000000000)"
      ]
     },
     "execution_count": 1,
     "metadata": {},
     "output_type": "execute_result"
    }
   ],
   "source": [
    "import sympy as sp\n",
    "\n",
    "s, t = sp.symbols('s t', real=True)\n",
    "f = t**2 + s*t\n",
    "I = sp.integrate(sp.integrate(f, (t, -2, 3)), (s, -1, 2))\n",
    "I, sp.N(I)  # (155/4, 38.75)\n"
   ]
  }
 ],
 "metadata": {
  "kernelspec": {
   "display_name": "Python [conda env:base] *",
   "language": "python",
   "name": "conda-base-py"
  },
  "language_info": {
   "codemirror_mode": {
    "name": "ipython",
    "version": 3
   },
   "file_extension": ".py",
   "mimetype": "text/x-python",
   "name": "python",
   "nbconvert_exporter": "python",
   "pygments_lexer": "ipython3",
   "version": "3.13.5"
  }
 },
 "nbformat": 4,
 "nbformat_minor": 5
}
